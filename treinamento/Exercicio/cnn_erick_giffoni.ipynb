{
 "cells": [
  {
   "cell_type": "markdown",
   "metadata": {
    "scrolled": true
   },
   "source": [
    "O objetivo do exercício é praticar a codificação utilizando o Tensorflow e aplicar o mesmo nos conceitos apresentados em aula.\n",
    "\n",
    "Neste exercício, utilizaremos um dataset bem conhecido: o dataset de dígitos escritos a mão do MNIST. Este dataset consiste em 60.000 imagens, de tamanho 28x28, dos dígitos de 0 a 9, escritos à mão. \n",
    "\n",
    "Devem ser criadas duas redes neurais capazes de classificar estas imagens: uma Rede Neural convencional (MLP), contendo duas camadas ocultas de 256 neurônios cada (ou qualquer valor que queira) e uma camada de saída. Algo semelhante à figura abaixo:\n",
    "\n",
    "![Image](http://cs231n.github.io/assets/nn1/neural_net2.jpeg)\n",
    "\n",
    "A segunda rede a ser codificada deve ser uma Rede Neural Convolucional (CNN) contendo ao menos duas camadas de convolução, duas camadas de pooling e uma camada fully-connected.\n",
    "\n",
    "![Image](https://www.mdpi.com/entropy/entropy-19-00242/article_deploy/html/images/entropy-19-00242-g001.png)\n",
    "\n",
    "Ao final da implementação de ambas, a acurácia das redes deve ser apresentada para verificação de qual rede se saiu melhor."
   ]
  },
  {
   "cell_type": "markdown",
   "metadata": {},
   "source": [
    "## Meu caderno"
   ]
  },
  {
   "cell_type": "markdown",
   "metadata": {},
   "source": [
    "### MLP model"
   ]
  },
  {
   "cell_type": "code",
   "execution_count": 206,
   "metadata": {},
   "outputs": [],
   "source": [
    "from tensorflow.keras.datasets import mnist\n",
    "import matplotlib.pyplot as plt"
   ]
  },
  {
   "cell_type": "code",
   "execution_count": 443,
   "metadata": {},
   "outputs": [],
   "source": [
    "(X_train, y_train), (X_test, y_test) = mnist.load_data()"
   ]
  },
  {
   "cell_type": "code",
   "execution_count": 217,
   "metadata": {},
   "outputs": [
    {
     "name": "stdout",
     "output_type": "stream",
     "text": [
      "Exemplos de imagens: \n"
     ]
    },
    {
     "data": {
      "image/png": "[encoded data removed]",
      "text/plain": [
       "<Figure size 1800x360 with 30 Axes>"
      ]
     },
     "metadata": {},
     "output_type": "display_data"
    }
   ],
   "source": [
    "fig, axs = plt.subplots(3,10, figsize=(25,5))\n",
    "axs = axs.flatten()\n",
    "\n",
    "for img, ax in zip(X_train[:30], axs):\n",
    "    ax.imshow(img, cmap='gray')\n",
    "    ax.axis('off')\n",
    "\n",
    "print('Exemplos de imagens: ')\n",
    "plt.show()"
   ]
  },
  {
   "cell_type": "code",
   "execution_count": 218,
   "metadata": {},
   "outputs": [],
   "source": [
    "from sklearn.neural_network import MLPClassifier\n",
    "from sklearn.metrics import accuracy_score, confusion_matrix"
   ]
  },
  {
   "cell_type": "code",
   "execution_count": 219,
   "metadata": {},
   "outputs": [],
   "source": [
    "classifier = MLPClassifier(hidden_layer_sizes=(256, 256), activation='relu', verbose=True, learning_rate_init=0.01,\n",
    "                           batch_size=128, max_iter=10)"
   ]
  },
  {
   "cell_type": "code",
   "execution_count": 382,
   "metadata": {},
   "outputs": [],
   "source": [
    "X_train = X_train.reshape(-1, 28*28)\n",
    "X_test = X_test.reshape(-1, 28*28)"
   ]
  },
  {
   "cell_type": "code",
   "execution_count": 221,
   "metadata": {},
   "outputs": [
    {
     "name": "stdout",
     "output_type": "stream",
     "text": [
      "Iteration 1, loss = 1.27855425\n",
      "Iteration 2, loss = 0.47556378\n",
      "Iteration 3, loss = 0.40353413\n",
      "Iteration 4, loss = 0.31683687\n",
      "Iteration 5, loss = 0.29421832\n",
      "Iteration 6, loss = 0.28935498\n",
      "Iteration 7, loss = 0.29874354\n",
      "Iteration 8, loss = 0.38272107\n",
      "Iteration 9, loss = 0.35014040\n",
      "Training loss did not improve more than tol=0.000100 for two consecutive epochs. Stopping.\n"
     ]
    }
   ],
   "source": [
    "mlp_model = classifier.fit(X_train, y_train)"
   ]
  },
  {
   "cell_type": "code",
   "execution_count": 383,
   "metadata": {},
   "outputs": [
    {
     "name": "stdout",
     "output_type": "stream",
     "text": [
      "(60000, 784) (10000, 784) (60000,) (10000,)\n"
     ]
    }
   ],
   "source": [
    "print(X_train.shape, X_test.shape, y_train.shape, y_test.shape)"
   ]
  },
  {
   "cell_type": "code",
   "execution_count": 223,
   "metadata": {},
   "outputs": [],
   "source": [
    "predicted = classifier.predict(X_test)"
   ]
  },
  {
   "cell_type": "code",
   "execution_count": 224,
   "metadata": {},
   "outputs": [
    {
     "data": {
      "text/plain": [
       "array([7, 2, 1, ..., 4, 5, 6], dtype=uint8)"
      ]
     },
     "execution_count": 224,
     "metadata": {},
     "output_type": "execute_result"
    }
   ],
   "source": [
    "predicted"
   ]
  },
  {
   "cell_type": "code",
   "execution_count": 225,
   "metadata": {},
   "outputs": [
    {
     "name": "stdout",
     "output_type": "stream",
     "text": [
      "88.94 % de acurácia\n"
     ]
    }
   ],
   "source": [
    "mlp_model_accuracy = accuracy_score(y_test, predicted)\n",
    "print(mlp_model_accuracy*100, \"% de acurácia\")"
   ]
  },
  {
   "cell_type": "markdown",
   "metadata": {},
   "source": [
    "### CNN model"
   ]
  },
  {
   "cell_type": "code",
   "execution_count": 479,
   "metadata": {},
   "outputs": [],
   "source": [
    "import keras\n",
    "from keras.datasets import mnist\n",
    "from keras.models import Sequential\n",
    "from keras.layers import Dense, Dropout, Flatten\n",
    "from keras.layers import Conv2D, MaxPooling2D\n",
    "from keras.utils import np_utils, to_categorical"
   ]
  },
  {
   "cell_type": "code",
   "execution_count": 480,
   "metadata": {},
   "outputs": [],
   "source": [
    "# Parâmetros utilizados pela rede neural convolucional\n",
    "# Caso queira, estes parâmetros podem ser modificados, com exceção do n_input e n_output\n",
    "\n",
    "learning_rate = 0.05\n",
    "dropout = 0.75 # Valor de dropout\n",
    "epochs = 10\n",
    "batch_size = 50\n",
    "\n",
    "n_input = 784 # O tamanho de cada imagem do dataset MNIST é 28x28\n",
    "n_output = 10 # 0-9\n",
    "img_rows, img_cols = 28, 28"
   ]
  },
  {
   "cell_type": "code",
   "execution_count": 481,
   "metadata": {},
   "outputs": [],
   "source": [
    "(X_train, y_train), (X_test, y_test) = mnist.load_data()"
   ]
  },
  {
   "cell_type": "markdown",
   "metadata": {},
   "source": [
    "Decidi importar a base de dados novamente, conforme acima, para que essa parte do código relacionada a CNN fique independente da parte de cima, relacionada ao MLP"
   ]
  },
  {
   "cell_type": "code",
   "execution_count": 482,
   "metadata": {},
   "outputs": [],
   "source": [
    "X_treino = X_train.reshape(X_train.shape[0], 28, 28, 1)\n",
    "X_teste = X_test.reshape(X_test.shape[0], 28, 28, 1)\n",
    "\n",
    "X_treino = X_treino.astype(\"float32\") / 255\n",
    "X_teste = X_teste.astype(\"float32\") / 255\n",
    "\n",
    "y_treino = np_utils.to_categorical(y_train, 10)\n",
    "y_teste = np_utils.to_categorical(y_test, 10)"
   ]
  },
  {
   "cell_type": "code",
   "execution_count": 483,
   "metadata": {},
   "outputs": [],
   "source": [
    "#y_train = keras.utils.to_categorical(y_train, 10)\n",
    "#y_test = keras.utils.to_categorical(y_test, 10)"
   ]
  },
  {
   "cell_type": "code",
   "execution_count": 484,
   "metadata": {},
   "outputs": [],
   "source": [
    "#X_train = X_train.reshape(-1,28,28,1)\n",
    "#X_test = X_test.reshape(-1,28,28,1)\n",
    "#y_train = y_train.reshape(-1,10,1,1)\n",
    "#y_test = y_test.reshape(-1,10,1,1)"
   ]
  },
  {
   "cell_type": "code",
   "execution_count": 485,
   "metadata": {},
   "outputs": [
    {
     "name": "stdout",
     "output_type": "stream",
     "text": [
      "(60000, 28, 28) (10000, 28, 28) (60000,) (10000,)\n"
     ]
    }
   ],
   "source": [
    "print(X_train.shape, X_test.shape, y_train.shape, y_test.shape)"
   ]
  },
  {
   "cell_type": "code",
   "execution_count": 486,
   "metadata": {},
   "outputs": [],
   "source": [
    "input_shape = (img_rows, img_cols,1)"
   ]
  },
  {
   "cell_type": "code",
   "execution_count": 538,
   "metadata": {},
   "outputs": [],
   "source": [
    "cnn_model = Sequential()"
   ]
  },
  {
   "cell_type": "code",
   "execution_count": 539,
   "metadata": {},
   "outputs": [],
   "source": [
    "cnn_model.add(\n",
    "            Conv2D(filters=60, \n",
    "                   kernel_size=(3,3),\n",
    "                   strides=(1,1),\n",
    "                   activation='relu',\n",
    "                   input_shape=input_shape)\n",
    ") # primeira camada de convolucao"
   ]
  },
  {
   "cell_type": "code",
   "execution_count": 540,
   "metadata": {},
   "outputs": [],
   "source": [
    "cnn_model.add(\n",
    "            MaxPooling2D(pool_size=(2,2),\n",
    "                         strides=2)\n",
    ") # primeira camada de pooling"
   ]
  },
  {
   "cell_type": "code",
   "execution_count": 541,
   "metadata": {},
   "outputs": [],
   "source": [
    "cnn_model.add(\n",
    "            Conv2D(filters=30, \n",
    "                   kernel_size=(3,3),\n",
    "                   strides=(1,1),\n",
    "                   activation='relu')\n",
    ") # segunda camada de convolucao"
   ]
  },
  {
   "cell_type": "code",
   "execution_count": 542,
   "metadata": {},
   "outputs": [],
   "source": [
    "cnn_model.add(\n",
    "            MaxPooling2D(pool_size=(2,2),\n",
    "                         strides=2)\n",
    ") # segunda camada de pooling"
   ]
  },
  {
   "cell_type": "code",
   "execution_count": 543,
   "metadata": {},
   "outputs": [],
   "source": [
    "cnn_model.add(Flatten())"
   ]
  },
  {
   "cell_type": "code",
   "execution_count": 544,
   "metadata": {},
   "outputs": [],
   "source": [
    "cnn_model.add(\n",
    "            Dense(units = 128, activation = 'relu')\n",
    ") # uma camada fully-connected"
   ]
  },
  {
   "cell_type": "code",
   "execution_count": 545,
   "metadata": {},
   "outputs": [],
   "source": [
    "cnn_model.add(\n",
    "            Dropout(dropout)\n",
    ")"
   ]
  },
  {
   "cell_type": "code",
   "execution_count": 546,
   "metadata": {},
   "outputs": [],
   "source": [
    "cnn_model.add(\n",
    "            Dense(n_output, activation='softmax')\n",
    ") # uma camada de saida"
   ]
  },
  {
   "cell_type": "code",
   "execution_count": 547,
   "metadata": {},
   "outputs": [],
   "source": [
    "cnn_model.compile(optimizer='adam',\n",
    "                  loss='categorical_crossentropy',\n",
    "                  metrics=['accuracy'])"
   ]
  },
  {
   "cell_type": "code",
   "execution_count": 548,
   "metadata": {},
   "outputs": [],
   "source": [
    "cnn_model.optimizer.lr = learning_rate"
   ]
  },
  {
   "cell_type": "code",
   "execution_count": 549,
   "metadata": {},
   "outputs": [
    {
     "name": "stdout",
     "output_type": "stream",
     "text": [
      "Train on 60000 samples, validate on 10000 samples\n",
      "Epoch 1/10\n",
      "60000/60000 [==============================] - 258s 4ms/step - loss: 2.3338 - acc: 0.1049 - val_loss: 2.3075 - val_acc: 0.0958\n",
      "Epoch 2/10\n",
      "60000/60000 [==============================] - 260s 4ms/step - loss: 2.3061 - acc: 0.1051 - val_loss: 2.3037 - val_acc: 0.0958\n",
      "Epoch 3/10\n",
      "60000/60000 [==============================] - 259s 4ms/step - loss: 2.3061 - acc: 0.1072 - val_loss: 2.3087 - val_acc: 0.0980\n",
      "Epoch 4/10\n",
      "60000/60000 [==============================] - 252s 4ms/step - loss: 2.3061 - acc: 0.1064 - val_loss: 2.3075 - val_acc: 0.1009\n",
      "Epoch 5/10\n",
      "60000/60000 [==============================] - 248s 4ms/step - loss: 2.3064 - acc: 0.1060 - val_loss: 2.3138 - val_acc: 0.0974\n",
      "Epoch 6/10\n",
      "60000/60000 [==============================] - 257s 4ms/step - loss: 2.3064 - acc: 0.1053 - val_loss: 2.3038 - val_acc: 0.0980\n",
      "Epoch 7/10\n",
      "60000/60000 [==============================] - 255s 4ms/step - loss: 2.3056 - acc: 0.1047 - val_loss: 2.3052 - val_acc: 0.1009\n",
      "Epoch 8/10\n",
      "60000/60000 [==============================] - 253s 4ms/step - loss: 2.3064 - acc: 0.1059 - val_loss: 2.3036 - val_acc: 0.0982\n",
      "Epoch 9/10\n",
      "60000/60000 [==============================] - 249s 4ms/step - loss: 2.3066 - acc: 0.1054 - val_loss: 2.3030 - val_acc: 0.1135\n",
      "Epoch 10/10\n",
      "60000/60000 [==============================] - 255s 4ms/step - loss: 2.3065 - acc: 0.1053 - val_loss: 2.3136 - val_acc: 0.0982\n"
     ]
    },
    {
     "data": {
      "text/plain": [
       "<keras.callbacks.History at 0x1a40f13518>"
      ]
     },
     "execution_count": 549,
     "metadata": {},
     "output_type": "execute_result"
    }
   ],
   "source": [
    "cnn_model.fit(X_treino, y_treino, batch_size=batch_size, epochs=epochs, validation_split=0.2, \n",
    "              verbose=1, validation_data=(X_teste, y_teste))"
   ]
  },
  {
   "cell_type": "code",
   "execution_count": 550,
   "metadata": {},
   "outputs": [
    {
     "name": "stdout",
     "output_type": "stream",
     "text": [
      "_________________________________________________________________\n",
      "Layer (type)                 Output Shape              Param #   \n",
      "=================================================================\n",
      "conv2d_72 (Conv2D)           (None, 26, 26, 60)        600       \n",
      "_________________________________________________________________\n",
      "max_pooling2d_61 (MaxPooling (None, 13, 13, 60)        0         \n",
      "_________________________________________________________________\n",
      "conv2d_73 (Conv2D)           (None, 11, 11, 30)        16230     \n",
      "_________________________________________________________________\n",
      "max_pooling2d_62 (MaxPooling (None, 5, 5, 30)          0         \n",
      "_________________________________________________________________\n",
      "flatten_5 (Flatten)          (None, 750)               0         \n",
      "_________________________________________________________________\n",
      "dense_36 (Dense)             (None, 128)               96128     \n",
      "_________________________________________________________________\n",
      "dropout_33 (Dropout)         (None, 128)               0         \n",
      "_________________________________________________________________\n",
      "dense_37 (Dense)             (None, 10)                1290      \n",
      "=================================================================\n",
      "Total params: 114,248\n",
      "Trainable params: 114,248\n",
      "Non-trainable params: 0\n",
      "_________________________________________________________________\n"
     ]
    }
   ],
   "source": [
    "cnn_model.summary()"
   ]
  },
  {
   "cell_type": "code",
   "execution_count": 551,
   "metadata": {},
   "outputs": [
    {
     "name": "stdout",
     "output_type": "stream",
     "text": [
      "10000/10000 [==============================] - 19s 2ms/step\n"
     ]
    }
   ],
   "source": [
    "cnn_model_accuracy = cnn_model.evaluate(X_teste, y_teste, batch_size=batch_size, verbose=1)"
   ]
  },
  {
   "cell_type": "code",
   "execution_count": 552,
   "metadata": {},
   "outputs": [
    {
     "name": "stdout",
     "output_type": "stream",
     "text": [
      "9.819999927654862 % de acurácia\n"
     ]
    }
   ],
   "source": [
    "print(cnn_model_accuracy[1]*100, \"% de acurácia\")"
   ]
  },
  {
   "cell_type": "markdown",
   "metadata": {},
   "source": [
    "## Comparando os resultados"
   ]
  },
  {
   "cell_type": "code",
   "execution_count": 583,
   "metadata": {},
   "outputs": [],
   "source": [
    "import pandas as pd"
   ]
  },
  {
   "cell_type": "code",
   "execution_count": 584,
   "metadata": {},
   "outputs": [
    {
     "data": {
      "text/plain": [
       "[<matplotlib.lines.Line2D at 0x1a556206a0>]"
      ]
     },
     "execution_count": 584,
     "metadata": {},
     "output_type": "execute_result"
    },
    {
     "data": {
      "image/png": "[encoded data removed]",
      "text/plain": [
       "<Figure size 432x288 with 1 Axes>"
      ]
     },
     "metadata": {},
     "output_type": "display_data"
    }
   ],
   "source": [
    "plt.plot(mlp_model.loss_curve_)"
   ]
  },
  {
   "cell_type": "code",
   "execution_count": 598,
   "metadata": {},
   "outputs": [
    {
     "data": {
      "text/html": [
       "<div>\n",
       "<style scoped>\n",
       "    .dataframe tbody tr th:only-of-type {\n",
       "        vertical-align: middle;\n",
       "    }\n",
       "\n",
       "    .dataframe tbody tr th {\n",
       "        vertical-align: top;\n",
       "    }\n",
       "\n",
       "    .dataframe thead th {\n",
       "        text-align: right;\n",
       "    }\n",
       "</style>\n",
       "<table border=\"1\" class=\"dataframe\">\n",
       "  <thead>\n",
       "    <tr style=\"text-align: right;\">\n",
       "      <th></th>\n",
       "      <th>loss</th>\n",
       "      <th>accuracy</th>\n",
       "    </tr>\n",
       "  </thead>\n",
       "  <tbody>\n",
       "    <tr>\n",
       "      <th>0</th>\n",
       "      <td>2.313559</td>\n",
       "      <td>0.0982</td>\n",
       "    </tr>\n",
       "  </tbody>\n",
       "</table>\n",
       "</div>"
      ],
      "text/plain": [
       "       loss  accuracy\n",
       "0  2.313559    0.0982"
      ]
     },
     "execution_count": 598,
     "metadata": {},
     "output_type": "execute_result"
    }
   ],
   "source": [
    "cnn_df = pd.DataFrame(data={'loss': [cnn_model_accuracy[0]], 'accuracy': [cnn_model_accuracy[1]]})\n",
    "cnn_df"
   ]
  },
  {
   "cell_type": "code",
   "execution_count": 632,
   "metadata": {},
   "outputs": [
    {
     "data": {
      "text/html": [
       "<div>\n",
       "<style scoped>\n",
       "    .dataframe tbody tr th:only-of-type {\n",
       "        vertical-align: middle;\n",
       "    }\n",
       "\n",
       "    .dataframe tbody tr th {\n",
       "        vertical-align: top;\n",
       "    }\n",
       "\n",
       "    .dataframe thead th {\n",
       "        text-align: right;\n",
       "    }\n",
       "</style>\n",
       "<table border=\"1\" class=\"dataframe\">\n",
       "  <thead>\n",
       "    <tr style=\"text-align: right;\">\n",
       "      <th></th>\n",
       "      <th>CNN loss</th>\n",
       "      <th>CNN accuracy</th>\n",
       "      <th>MLP accuracy</th>\n",
       "    </tr>\n",
       "  </thead>\n",
       "  <tbody>\n",
       "    <tr>\n",
       "      <th>0</th>\n",
       "      <td>2.313559</td>\n",
       "      <td>0.0982</td>\n",
       "      <td>0.8894</td>\n",
       "    </tr>\n",
       "  </tbody>\n",
       "</table>\n",
       "</div>"
      ],
      "text/plain": [
       "   CNN loss  CNN accuracy  MLP accuracy\n",
       "0  2.313559        0.0982        0.8894"
      ]
     },
     "execution_count": 632,
     "metadata": {},
     "output_type": "execute_result"
    }
   ],
   "source": [
    "compare = pd.DataFrame(data={'CNN loss':[cnn_model_accuracy[0]], 'CNN accuracy': [cnn_model_accuracy[1]], \n",
    "                             'MLP accuracy': [mlp_model_accuracy]})\n",
    "compare"
   ]
  },
  {
   "cell_type": "code",
   "execution_count": 667,
   "metadata": {},
   "outputs": [
    {
     "data": {
      "text/plain": [
       "<matplotlib.axes._subplots.AxesSubplot at 0x1a58b06630>"
      ]
     },
     "execution_count": 667,
     "metadata": {},
     "output_type": "execute_result"
    },
    {
     "data": {
      "image/png": "[encoded data removed]",
      "text/plain": [
       "<Figure size 1008x576 with 1 Axes>"
      ]
     },
     "metadata": {},
     "output_type": "display_data"
    }
   ],
   "source": [
    "compare.plot(kind='bar', figsize=(14,8), fontsize=15, grid=True, ylim=(0,2.4), \n",
    "             yticks=(0,0.1,0.2,0.3,0.4,0.5,0.6,0.7,0.8,0.9,1,1.5,2,2.4))"
   ]
  },
  {
   "cell_type": "markdown",
   "metadata": {},
   "source": [
    "Comparação dos resultados obtidos: a rede MLP saiu-se melhor em comparação à CNN"
   ]
  },
  {
   "cell_type": "markdown",
   "metadata": {},
   "source": [
    "## Caderno anterior"
   ]
  },
  {
   "cell_type": "code",
   "execution_count": 2,
   "metadata": {},
   "outputs": [
    {
     "name": "stderr",
     "output_type": "stream",
     "text": [
      "/Users/erick.giffoni/anaconda3/lib/python3.6/site-packages/h5py/__init__.py:36: FutureWarning: Conversion of the second argument of issubdtype from `float` to `np.floating` is deprecated. In future, it will be treated as `np.float64 == np.dtype(float).type`.\n",
      "  from ._conv import register_converters as _register_converters\n"
     ]
    }
   ],
   "source": [
    "import tensorflow as tf\n",
    "\n",
    "from tensorflow.examples.tutorials.mnist import input_data\n",
    "\n",
    "tf.logging.set_verbosity(tf.logging.ERROR)"
   ]
  },
  {
   "cell_type": "code",
   "execution_count": null,
   "metadata": {},
   "outputs": [],
   "source": [
    "# Carregando o dataset a ser trabalhado, e separando o mesmo em variáveis\n",
    "\n",
    "mnist = input_data.read_data_sets('mnist/', one_hot=True)\n",
    "\n",
    "training_set = mnist.train\n",
    "\n",
    "x_train, y_train = mnist.train.images, mnist.train.labels\n",
    "x_val, y_val = mnist.validation.images, mnist.validation.labels\n",
    "\n",
    "x_test, y_test = mnist.test.images, mnist.test.labels\n",
    "\n",
    "#print('##############################')\n",
    "#print('x_test: {}'.format(x_test.shape))\n",
    "#print('y_test: {}'.format(y_test.shape))"
   ]
  },
  {
   "cell_type": "code",
   "execution_count": null,
   "metadata": {},
   "outputs": [],
   "source": [
    "# Parâmetros utilizados pela rede neural inicial\n",
    "# Caso queira, estes parâmetros podem ser modificados, com exceção do n_input e n_output\n",
    "learning_rate = 0.01\n",
    "epochs = 10\n",
    "batch_size = 128\n",
    "\n",
    "n_input = 784 # O tamanho de cada imagem do dataset MNIST é 28x28\n",
    "n_output = 10 # 0-9"
   ]
  },
  {
   "cell_type": "code",
   "execution_count": null,
   "metadata": {},
   "outputs": [],
   "source": [
    "x = tf.placeholder(\"float\", [None, n_input])\n",
    "y = tf.placeholder(\"float\", [None, n_output])"
   ]
  },
  {
   "cell_type": "code",
   "execution_count": null,
   "metadata": {},
   "outputs": [],
   "source": [
    "# Célula para criação das variáveis referentes aos pesos e bias"
   ]
  },
  {
   "cell_type": "code",
   "execution_count": null,
   "metadata": {},
   "outputs": [],
   "source": [
    "# Construção do modelo. O modelo deve conter três camadas além da camada de entrada,\n",
    "# duas camadas ocultas de N neurônios cada, e uma camada de saída"
   ]
  },
  {
   "cell_type": "code",
   "execution_count": null,
   "metadata": {},
   "outputs": [],
   "source": [
    "# Célula para definição da função de custo e validação do modelo"
   ]
  },
  {
   "cell_type": "code",
   "execution_count": null,
   "metadata": {},
   "outputs": [],
   "source": [
    "# Inicialização das variáveis do tensorflow\n",
    "start = tf.global_variables_initializer()"
   ]
  },
  {
   "cell_type": "code",
   "execution_count": null,
   "metadata": {},
   "outputs": [],
   "source": [
    "# Execução do modelo\n",
    "with tf.Session() as sess:\n",
    "    sess.run(start)\n",
    "    \n",
    "    # SEU CÓDIGO VIRÁ AQUI"
   ]
  },
  {
   "cell_type": "code",
   "execution_count": null,
   "metadata": {},
   "outputs": [],
   "source": [
    "# Resetando o grafo de execução do Tensorflow para construção da CNN\n",
    "tf.reset_default_graph()"
   ]
  },
  {
   "cell_type": "code",
   "execution_count": null,
   "metadata": {},
   "outputs": [],
   "source": [
    "# Parâmetros utilizados pela rede neural convolucional\n",
    "# Caso queira, estes parâmetros podem ser modificados, com exceção do n_input e n_output\n",
    "\n",
    "learning_rate = 0.01\n",
    "dropout = 0.75 # Valor de dropout\n",
    "epochs = 10\n",
    "batch_size = 128\n",
    "\n",
    "n_input = 784 # O tamanho de cada imagem do dataset MNIST é 28x28\n",
    "n_output = 10 # 0-9"
   ]
  },
  {
   "cell_type": "code",
   "execution_count": null,
   "metadata": {},
   "outputs": [],
   "source": [
    "x = tf.placeholder(tf.float32, [None, n_input])\n",
    "y = tf.placeholder(tf.float32, [None, n_output])\n",
    "\n",
    "keep_prob = tf.placeholder(tf.float32)"
   ]
  },
  {
   "cell_type": "code",
   "execution_count": null,
   "metadata": {},
   "outputs": [],
   "source": [
    "# Célula para criação das variáveis referentes aos pesos e bias"
   ]
  },
  {
   "cell_type": "code",
   "execution_count": null,
   "metadata": {},
   "outputs": [],
   "source": [
    "# Célula para declaração da camada de convolução do modelo"
   ]
  },
  {
   "cell_type": "code",
   "execution_count": null,
   "metadata": {},
   "outputs": [],
   "source": [
    "# Célula para declaração da camada de pooling"
   ]
  },
  {
   "cell_type": "code",
   "execution_count": null,
   "metadata": {},
   "outputs": [],
   "source": [
    "# Construção do modelo. O modelo deve conter ao menos duas camadas de convolução,\n",
    "# duas camadas de pooling e uma camada fully-connected. "
   ]
  },
  {
   "cell_type": "code",
   "execution_count": null,
   "metadata": {},
   "outputs": [],
   "source": [
    "# Construção do modelo"
   ]
  },
  {
   "cell_type": "code",
   "execution_count": null,
   "metadata": {},
   "outputs": [],
   "source": [
    "# Célula para definição da função de custo e validação do modelo"
   ]
  },
  {
   "cell_type": "code",
   "execution_count": null,
   "metadata": {},
   "outputs": [],
   "source": [
    "# Inicialização das variáveis do tensorflow\n",
    "start = tf.global_variables_initializer()"
   ]
  },
  {
   "cell_type": "code",
   "execution_count": null,
   "metadata": {},
   "outputs": [],
   "source": [
    "# Execução do modelo\n",
    "with tf.Session() as sess:\n",
    "    sess.run(start)\n",
    "    \n",
    "    # SEU CÓDIGO VIRÁ AQUI"
   ]
  },
  {
   "cell_type": "code",
   "execution_count": null,
   "metadata": {},
   "outputs": [],
   "source": [
    "# Resetando o grafo de execução do Tensorflow para construção da CNN\n",
    "tf.reset_default_graph()"
   ]
  },
  {
   "cell_type": "code",
   "execution_count": null,
   "metadata": {},
   "outputs": [],
   "source": [
    "# APRESENTAR AO FINAL A ACURÁCIA OBTIDA NOS DOIS MODELOS"
   ]
  }
 ],
 "metadata": {
  "kernelspec": {
   "display_name": "Python 3",
   "language": "python",
   "name": "python3"
  },
  "language_info": {
   "codemirror_mode": {
    "name": "ipython",
    "version": 3
   },
   "file_extension": ".py",
   "mimetype": "text/x-python",
   "name": "python",
   "nbconvert_exporter": "python",
   "pygments_lexer": "ipython3",
   "version": "3.6.5"
  }
 },
 "nbformat": 4,
 "nbformat_minor": 2
}
